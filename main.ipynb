{
 "cells": [
  {
   "cell_type": "code",
   "execution_count": null,
   "id": "fa67ddb3",
   "metadata": {},
   "outputs": [],
   "source": [
    "import tensorflow as tf\n",
    "from tensorflow import keras\n",
    "import numpy as np\n",
    "import os\n",
    "from tensorflow.keras import layers,optimizers,datasets#优化器，数据集\n",
    "\n",
    "model=keras.Sequential()#创建网络序列\n",
    "#添加第一层卷积层和池化层\n",
    "model.add(keras.layers.Conv2D(filters=32,kernel_size=5,strides=(1,1),\n",
    "                             padding='same',activation=tf.nn.relu,input_shape=(28,28,1)))\n",
    "model.add(keras.layers.MaxPool2D(pool_size=(2,2),strides=(2,2),padding='valid'))\n",
    "#添加第二层卷积层和池化层\n",
    "model.add(keras.layers.Conv2D(filters=64,kernel_size=3,strides=(1,1),\n",
    "                             padding='same',activation=tf.nn.relu))\n",
    "model.add(keras.layers.MaxPool2D(pool_size=(2,2),strides=(2,2),padding='valid'))\n",
    "#添加dropout层以减少过拟合\n",
    "model.add(keras.layers.Dropout(0.25))\n",
    "model.add(keras.layers.Flatten())\n",
    "#添加两层全连接层\n",
    "model.add(keras.layers.Dense(units=128,activation=tf.nn.relu))\n",
    "model.add(keras.layers.Dropout(0.5))\n",
    "model.add(keras.layers.Dense(units=10,activation=tf.nn.softmax))\n"
   ]
  },
  {
   "cell_type": "code",
   "execution_count": 2,
   "id": "1f64f006",
   "metadata": {},
   "outputs": [
    {
     "name": "stdout",
     "output_type": "stream",
     "text": [
      "Downloading data from https://storage.googleapis.com/tensorflow/tf-keras-datasets/mnist.npz\n",
      "11493376/11490434 [==============================] - 1s 0us/step\n",
      "5\n",
      "(60000, 28, 28) (60000,)\n",
      "(10000, 28, 28) (10000,)\n",
      "[0. 0. 0. 0. 0. 1. 0. 0. 0. 0.]\n"
     ]
    }
   ],
   "source": [
    "(x_train_raw, y_train_raw), (x_test_raw, y_test_raw) = datasets.mnist.load_data()\n",
    "print(y_train_raw[0])\n",
    "print(x_train_raw.shape, y_train_raw.shape)\n",
    "print(x_test_raw.shape, y_test_raw.shape)\n",
    "#将分类标签变为 onehot 编码\n",
    "num_classes = 10\n",
    "y_train = keras.utils.to_categorical(y_train_raw, num_classes)\n",
    "y_test = keras.utils.to_categorical(y_test_raw, num_classes)\n",
    "print(y_train[0])\n",
    "\n",
    "x_train=x_train_raw.reshape(60000,784)\n",
    "x_test=x_test_raw.reshape(10000,784)\n",
    "x_train=x_train.astype('float32')/255\n",
    "x_test=x_test.astype('float32')/255"
   ]
  },
  {
   "cell_type": "code",
   "execution_count": 18,
   "id": "431fb1a9",
   "metadata": {},
   "outputs": [
    {
     "data": {
      "image/png": "[encoded data removed]",
      "text/plain": [
       "<Figure size 432x288 with 9 Axes>"
      ]
     },
     "metadata": {
      "needs_background": "light"
     },
     "output_type": "display_data"
    }
   ],
   "source": [
    "plt.figure()\n",
    "for i in range(9):\n",
    "    plt.subplot(3,3,i+1)\n",
    "    plt.imshow(x_train_raw[i])\n",
    "    #plt.ylable(y[i].numpy())\n",
    "    plt.axis('off')\n",
    "plt.show()"
   ]
  },
  {
   "cell_type": "code",
   "execution_count": 19,
   "id": "93b216f8",
   "metadata": {},
   "outputs": [
    {
     "name": "stdout",
     "output_type": "stream",
     "text": [
      "Train on 60000 samples\n",
      "Epoch 1/10\n",
      "60000/60000 [==============================] - 33s 550us/sample - loss: 0.0462 - acc: 0.9855\n",
      "Epoch 2/10\n",
      "60000/60000 [==============================] - 32s 534us/sample - loss: 0.0390 - acc: 0.9880\n",
      "Epoch 3/10\n",
      "60000/60000 [==============================] - 32s 541us/sample - loss: 0.0361 - acc: 0.9886\n",
      "Epoch 4/10\n",
      "60000/60000 [==============================] - 33s 542us/sample - loss: 0.0319 - acc: 0.9905\n",
      "Epoch 5/10\n",
      "60000/60000 [==============================] - 31s 524us/sample - loss: 0.0292 - acc: 0.9906\n",
      "Epoch 6/10\n",
      "60000/60000 [==============================] - 32s 527us/sample - loss: 0.0259 - acc: 0.9917\n",
      "Epoch 7/10\n",
      "60000/60000 [==============================] - 31s 523us/sample - loss: 0.0239 - acc: 0.9922\n",
      "Epoch 8/10\n",
      "60000/60000 [==============================] - 31s 525us/sample - loss: 0.0237 - acc: 0.9929\n",
      "Epoch 9/10\n",
      "60000/60000 [==============================] - 32s 538us/sample - loss: 0.0215 - acc: 0.9933\n",
      "Epoch 10/10\n",
      "60000/60000 [==============================] - 31s 521us/sample - loss: 0.0205 - acc: 0.9934\n"
     ]
    },
    {
     "data": {
      "text/plain": [
       "<tensorflow.python.keras.callbacks.History at 0xfffbd6466dd0>"
      ]
     },
     "execution_count": 19,
     "metadata": {},
     "output_type": "execute_result"
    }
   ],
   "source": [
    "#将数据扩充维度，以适应cnn模型\n",
    "X_train=x_train.reshape(60000,28,28,1)\n",
    "X_test=x_test.reshape(10000,28,28,1)\n",
    "model.compile(optimizer=\"adam\",loss=\"categorical_crossentropy\",metrics=['accuracy'])\n",
    "model.fit(x=X_train,y=y_train,epochs=10,batch_size=128)"
   ]
  },
  {
   "cell_type": "code",
   "execution_count": 20,
   "id": "956e6fed",
   "metadata": {},
   "outputs": [
    {
     "name": "stdout",
     "output_type": "stream",
     "text": [
      "10000/10000 [==============================] - 3s 278us/sample - loss: 0.0205 - acc: 0.9945\n",
      "Test Accuracy 0.99\n"
     ]
    }
   ],
   "source": [
    "#输出最终准确率结果\n",
    "test_loss,test_acc=model.evaluate(x=X_test,y=y_test)\n",
    "print(\"Test Accuracy %.2f\"%test_acc)"
   ]
  },
  {
   "cell_type": "code",
   "execution_count": 14,
   "id": "3e2a8e90",
   "metadata": {},
   "outputs": [],
   "source": [
    "logdir='./mnist_model'\n",
    "if not os.path.exists(logdir):\n",
    "    os.mkdir(logdir)\n",
    "model.save(logdir+'/final_CNN_model.h5')"
   ]
  },
  {
   "cell_type": "code",
   "execution_count": 21,
   "id": "86850b9f",
   "metadata": {},
   "outputs": [
    {
     "name": "stdout",
     "output_type": "stream",
     "text": [
      "Model: \"sequential\"\n",
      "_________________________________________________________________\n",
      "Layer (type)                 Output Shape              Param #   \n",
      "=================================================================\n",
      "conv2d (Conv2D)              (None, 28, 28, 32)        832       \n",
      "_________________________________________________________________\n",
      "max_pooling2d (MaxPooling2D) (None, 14, 14, 32)        0         \n",
      "_________________________________________________________________\n",
      "conv2d_1 (Conv2D)            (None, 14, 14, 64)        18496     \n",
      "_________________________________________________________________\n",
      "max_pooling2d_1 (MaxPooling2 (None, 7, 7, 64)          0         \n",
      "_________________________________________________________________\n",
      "dropout (Dropout)            (None, 7, 7, 64)          0         \n",
      "_________________________________________________________________\n",
      "flatten (Flatten)            (None, 3136)              0         \n",
      "_________________________________________________________________\n",
      "dense (Dense)                (None, 128)               401536    \n",
      "_________________________________________________________________\n",
      "dropout_1 (Dropout)          (None, 128)               0         \n",
      "_________________________________________________________________\n",
      "dense_1 (Dense)              (None, 10)                1290      \n",
      "=================================================================\n",
      "Total params: 422,154\n",
      "Trainable params: 422,154\n",
      "Non-trainable params: 0\n",
      "_________________________________________________________________\n",
      "前20张图片预测结果为：\n",
      "7,2,1,0,4,/t\n",
      "1,4,9,5,9,/t\n",
      "0,6,9,0,1,/t\n",
      "5,9,7,3,4,/t\n",
      "测试集前20张图片为：\n"
     ]
    },
    {
     "data": {
      "image/png": "[encoded data removed]",
      "text/plain": [
       "<Figure size 432x288 with 20 Axes>"
      ]
     },
     "metadata": {
      "needs_background": "light"
     },
     "output_type": "display_data"
    }
   ],
   "source": [
    "#预测结果可视化\n",
    "#加载CNN保存模型\n",
    "from tensorflow.keras.models import load_model\n",
    "new_model=load_model('./mnist_model/final_CNN_model.h5')\n",
    "new_model.summary()\n",
    "#可视化：\n",
    "import matplotlib.pyplot as plt\n",
    "%matplotlib inline\n",
    "def res_Visual(n):\n",
    "    final_opt_a=new_model.predict_classes(X_test[0:n])#通过模型预测测试集\n",
    "    fig,ax=plt.subplots(nrows=int(n/5),ncols=5)\n",
    "    ax=ax.flatten()\n",
    "    print('前{}张图片预测结果为：'.format(n))\n",
    "    for i in range(n):\n",
    "        print(final_opt_a[i],end=',')\n",
    "        if int((i+1)%5)==0:\n",
    "            print('/t')\n",
    "        #图片可视化展示\n",
    "        img=X_test[i].reshape((28,28))#读取每行数据，格式为Ndarry\n",
    "        plt.axis(\"off\")\n",
    "        ax[i].imshow(img,cmap='Greys',interpolation='nearest')#可视化\n",
    "        ax[i].axis(\"off\")\n",
    "    print('测试集前{}张图片为：'.format(n))\n",
    "res_Visual(20)\n"
   ]
  }
 ],
 "metadata": {
  "kernelspec": {
   "display_name": "Python 3",
   "language": "python",
   "name": "python3"
  },
  "language_info": {
   "codemirror_mode": {
    "name": "ipython",
    "version": 3
   },
   "file_extension": ".py",
   "mimetype": "text/x-python",
   "name": "python",
   "nbconvert_exporter": "python",
   "pygments_lexer": "ipython3",
   "version": "3.8.6 (tags/v3.8.6:db45529, Sep 23 2020, 15:52:53) [MSC v.1927 64 bit (AMD64)]"
  },
  "vscode": {
   "interpreter": {
    "hash": "3b7d32af1e689683b59f84af5e00ff8511e054604b74fc1830ce1b819250cf76"
   }
  }
 },
 "nbformat": 4,
 "nbformat_minor": 5
}
